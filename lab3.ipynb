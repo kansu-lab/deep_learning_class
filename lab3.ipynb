{
  "nbformat": 4,
  "nbformat_minor": 0,
  "metadata": {
    "kernelspec": {
      "display_name": "Python 2",
      "language": "python",
      "name": "python2"
    },
    "language_info": {
      "codemirror_mode": {
        "name": "ipython",
        "version": 2
      },
      "file_extension": ".py",
      "mimetype": "text/x-python",
      "name": "python",
      "nbconvert_exporter": "python",
      "pygments_lexer": "ipython2",
      "version": "2.7.10"
    },
    "colab": {
      "name": "GradientDescent (2).ipynb",
      "provenance": [],
      "collapsed_sections": []
    }
  },
  "cells": [
    {
      "cell_type": "code",
      "metadata": {
        "id": "pQVrOPOqGK-g",
        "colab_type": "code",
        "colab": {}
      },
      "source": [
        "import numpy as np\n",
        "import matplotlib.cm as cm\n",
        "import matplotlib.pyplot as plt\n",
        "%matplotlib inline\n",
        "from __future__ import division\n",
        "import random"
      ],
      "execution_count": 1,
      "outputs": []
    },
    {
      "cell_type": "markdown",
      "metadata": {
        "id": "kEPlaaYeGK-v",
        "colab_type": "text"
      },
      "source": [
        "We previously talked about using Gradient Descent in order to optimize complex functions for which we have no analytical expression. Let's take a look at a few more examples."
      ]
    },
    {
      "cell_type": "markdown",
      "metadata": {
        "id": "D8YysUDTGK-1",
        "colab_type": "text"
      },
      "source": [
        "## Paraboloid\n",
        "\n",
        "Let's use this simple paraboloid to explore gradient descent algorithms. Notice that the curvature of this surface is much stronger in the y-dimension than in the x-dimension. This will lead to some interesting properties."
      ]
    },
    {
      "cell_type": "code",
      "metadata": {
        "id": "sRhUKaYIGK-5",
        "colab_type": "code",
        "colab": {}
      },
      "source": [
        "delta = 0.025\n",
        "x = np.arange(-10.0, 10.0, delta)\n",
        "y = np.arange(-10.0, 10.0, delta)\n",
        "X, Y = np.meshgrid(x, y)\n",
        "Z = X**2 / 125 +  Y**2 / 25\n",
        "fig, ax = plt.subplots()\n",
        "CS = ax.contour(X, Y, Z)"
      ],
      "execution_count": null,
      "outputs": []
    },
    {
      "cell_type": "code",
      "metadata": {
        "id": "3cRduRVRGK_F",
        "colab_type": "code",
        "colab": {}
      },
      "source": [
        "def grad_f(vector):\n",
        "    x, y = vector\n",
        "    df_dx = (2/125)*x \n",
        "    df_dy = (2/25)*y\n",
        "    return np.array([df_dx, df_dy])"
      ],
      "execution_count": null,
      "outputs": []
    },
    {
      "cell_type": "code",
      "metadata": {
        "id": "ichW-GZLGK_Q",
        "colab_type": "code",
        "colab": {}
      },
      "source": [
        "def grad_descent(starting_point=None, iterations=10, learning_rate=12):\n",
        "    # your code here\n",
        "    # be sure to store and return the entire trajectory -- i.e. the results at\n",
        "    # each step -- as a list or array "
      ],
      "execution_count": null,
      "outputs": []
    },
    {
      "cell_type": "code",
      "metadata": {
        "id": "j2Rj_APmGK_a",
        "colab_type": "code",
        "colab": {}
      },
      "source": [
        "np.random.seed(10)\n",
        "traj = grad_descent(iterations=50, learning_rate=2)\n",
        "\n",
        "fig, ax = plt.subplots()\n",
        "CS = ax.contour(X, Y, Z)\n",
        "x= traj[:,0]\n",
        "y= traj[:,1]\n",
        "plt.plot(x,y,'-o')"
      ],
      "execution_count": null,
      "outputs": []
    },
    {
      "cell_type": "markdown",
      "metadata": {
        "id": "BHrQst2LGK_j",
        "colab_type": "text"
      },
      "source": [
        "## Exercise\n",
        " Take a look at what happens when the learning rate is low, such as around 1. What happens when the learning rate is much smaller than 1? What is the downside of making the learning rate too small?\n",
        " \n",
        " Take a look at what happens when the learning rate is higher, like 10 to 15. \n",
        " "
      ]
    },
    {
      "cell_type": "markdown",
      "metadata": {
        "id": "dAuFoo9BGK_l",
        "colab_type": "text"
      },
      "source": [
        "## Momentum\n",
        "\n",
        "When the curvature of the loss fuction is much higher in one dimension than in the other(s), gradient descent has some drawbacks. The gradient is much stronger in one of the dimensions and this dominates where the next step goes. Unfortunately, we have a tendency to over-step in this direction and we have to then walk back down the hill in the next step. The oscillatory behavior is wasteful, and at the same time, we move only very very slowly in the other dimension. \n",
        "\n",
        "There are a family of methods that seek to overcome this problem by utilizing not just the instantaeous gradient information, but also some information about the past of the trajectory. Gradient Descent with Momentum is the simplest of these and the one which we will explore here. Yet other methods also include adaptive learning rate by considering the curvature in each dimension of the loss function: AdaGrad, RMSprop, and Adam."
      ]
    },
    {
      "cell_type": "code",
      "metadata": {
        "id": "e0Zn3Mc9GK_m",
        "colab_type": "code",
        "colab": {}
      },
      "source": [
        "def grad_descent_with_momentum(starting_point=None, iterations=10, alpha=.9, epsilon=10):\n",
        "  # your code here"
      ],
      "execution_count": null,
      "outputs": []
    },
    {
      "cell_type": "code",
      "metadata": {
        "id": "0giU9LgtGK_u",
        "colab_type": "code",
        "colab": {}
      },
      "source": [
        "np.random.seed(10)\n",
        "traj = grad_descent_with_momentum(iterations=50, epsilon=2, alpha=.5)\n",
        "\n",
        "fig, ax = plt.subplots()\n",
        "CS = ax.contour(X, Y, Z)\n",
        "x= traj[:,0]\n",
        "y= traj[:,1]\n",
        "plt.plot(x,y,'-o')"
      ],
      "execution_count": null,
      "outputs": []
    },
    {
      "cell_type": "markdown",
      "metadata": {
        "id": "IL_xOg9NGK_0",
        "colab_type": "text"
      },
      "source": [
        "## Exercise\n",
        "(Make sure to set random seeds for better comparisons.)\n",
        "\n",
        "Explore the Momentum algorithm with different values of epsilon. Try epsilson near 1 and near 10, see if the oscillatory before we saw before seems more dampened.\n",
        "\n",
        "What effects do you notice of exploring different values of alpha, such as .5, .9, .99 and so on.\n",
        "\n",
        "Make comparisons between gradient descent from the same starting poitn, with and without momentum. Make sure the \"learning_rate\" and \"epsilon\" are the same, respectively. How does alpha impact this comparison?\n"
      ]
    },
    {
      "cell_type": "code",
      "metadata": {
        "id": "4bSqPro-GK_1",
        "colab_type": "code",
        "colab": {}
      },
      "source": [
        ""
      ],
      "execution_count": null,
      "outputs": []
    },
    {
      "cell_type": "markdown",
      "metadata": {
        "id": "yztBLXcad1ax",
        "colab_type": "text"
      },
      "source": [
        "## Loss Functions\n",
        "Instead of doing gradient descent on parameteric function like the paraboloid, we can do gradient descent on other complex functions we wish to minimize. In machine learning and statistics, we nearly always have some Loss function that we aim to minimize, so let's look at an example.\n",
        "\n",
        "### OLS Regression\n",
        "\n",
        "Recall our example model of simple OLS regression. Let's create a dataset like this and then fit our model using gradient descent."
      ]
    },
    {
      "cell_type": "code",
      "metadata": {
        "id": "w6q-4UOwd1vc",
        "colab_type": "code",
        "colab": {
          "base_uri": "https://localhost:8080/",
          "height": 300
        },
        "outputId": "af8e9548-2762-4409-c045-0df99f33e71f"
      },
      "source": [
        "x = 2*np.random.randn(50)\n",
        "y = 4*x -2 + 3*np.random.randn(len(x))\n",
        "# what are the betas here?\n",
        "\n",
        "plt.plot(x,y, '.')\n",
        "plt.ylabel(\"Y\")\n",
        "plt.xlabel(\"X\")"
      ],
      "execution_count": 2,
      "outputs": [
        {
          "output_type": "execute_result",
          "data": {
            "text/plain": [
              "Text(0.5,0,'X')"
            ]
          },
          "metadata": {
            "tags": []
          },
          "execution_count": 2
        },
        {
          "output_type": "display_data",
          "data": {
            "image/png": "[encoded data removed]",
            "text/plain": [
              "<Figure size 432x288 with 1 Axes>"
            ]
          },
          "metadata": {
            "tags": [],
            "needs_background": "light"
          }
        }
      ]
    },
    {
      "cell_type": "markdown",
      "metadata": {
        "id": "S8XzQ0CbeZs6",
        "colab_type": "text"
      },
      "source": [
        "For a regression model, what loss function should we use? Write an implementation:"
      ]
    },
    {
      "cell_type": "code",
      "metadata": {
        "id": "opd1avOJeBVB",
        "colab_type": "code",
        "colab": {}
      },
      "source": [
        "def loss(y, y_hat):\n",
        "    # Root Mean Squared loss metric\n",
        "    return np.sqrt(np.average((y-y_hat)**2))\n"
      ],
      "execution_count": 3,
      "outputs": []
    },
    {
      "cell_type": "markdown",
      "metadata": {
        "id": "utvGpyufeqOq",
        "colab_type": "text"
      },
      "source": [
        "Prediction\n",
        "Write a function **yhat()** that takes in an x value and the coefficients of our OLS model, and returns the predicted value of y."
      ]
    },
    {
      "cell_type": "code",
      "metadata": {
        "id": "XIf8wqQZegkc",
        "colab_type": "code",
        "colab": {}
      },
      "source": [
        "def yhat(x, coeffs):\n",
        "    # returns model prediction for simple OLS regressor\n",
        "    beta_0, beta_1 = coeffs\n",
        "    return beta_0 + beta_1 * x"
      ],
      "execution_count": 4,
      "outputs": []
    },
    {
      "cell_type": "code",
      "metadata": {
        "id": "K8BLhy5SfE36",
        "colab_type": "code",
        "colab": {}
      },
      "source": [
        "np.testing.assert_equal(\n",
        "    yhat(2, (1,1)),\n",
        "    3\n",
        ")"
      ],
      "execution_count": 5,
      "outputs": []
    },
    {
      "cell_type": "markdown",
      "metadata": {
        "id": "n__u685VpHjU",
        "colab_type": "text"
      },
      "source": [
        "To minimize a Loss function, we just need to find the values of the parameters of the OLS model that lead to the smallest value of the Loss. In this way, a Loss function is a bit different than the paraboloid function that we minimized previously.\n",
        "\n",
        "A Loss function depends on two kinds of inputs: data and the predictions of an ML model. The predictions of the ML model are controlled by the parameters of that model. In minimizing a Loss, it is **only** the model parameters that we can adjust when fitting a model. We can consider the data to be *fixed*. \n",
        "\n",
        "In the case of our Loss in this example problem (RMSE), our OLS model only has two parameters: $\\beta_0$ and $\\beta_1$. Therefore, to *fit* this model to a dataset, we find the values of  $\\beta_0$ and $\\beta_1$ that minimize the RMSE. \n",
        "\n",
        "Even though this Loss function is composed of both data and model parameters, we can write down expression for its important partial derivatives (more on this next time):"
      ]
    },
    {
      "cell_type": "markdown",
      "metadata": {
        "id": "m_g81I7ffUgT",
        "colab_type": "text"
      },
      "source": [
        "$\\frac{\\partial L}{\\partial \\beta_0} = -2\\frac{1}{N}\\sum_i(y_i - \\hat{y}_i)$\n",
        "\n",
        "$\\frac{\\partial L}{\\partial \\beta_0} = -2\\frac{1}{N}\\sum_i(y_i - \\hat{y}_i)x$"
      ]
    },
    {
      "cell_type": "markdown",
      "metadata": {
        "id": "XDD3nFYis2iQ",
        "colab_type": "text"
      },
      "source": [
        "Implement our function **grad_f()** which returns the local gradient for any location in $(\\beta_0, \\beta_1)$ space. \n",
        "\n",
        "For this Loss function (unlike the paraboloid) we need to pass in extra information such as the data x and y. Note that the terms in the gradient depend on the predictions $\\hat{y}$, the ground truth $y$, and the inputs $x$. "
      ]
    },
    {
      "cell_type": "markdown",
      "metadata": {
        "id": "CAG6B_8gtwXL",
        "colab_type": "text"
      },
      "source": [
        "We can now run our gradient loop as before, using our new **grad_f()** function to minimize the Loss and find the best $\\beta_0, \\beta_1$."
      ]
    },
    {
      "cell_type": "code",
      "metadata": {
        "id": "xLKol9xneHZD",
        "colab_type": "code",
        "colab": {}
      },
      "source": [
        "def grad_f(beta_0, beta_1, x, y):\n",
        "    \"\"\"\n",
        "    Computes local gradient vector for squared-error loss on OLS regression model cofficients\n",
        "    \"\"\"\n",
        "    y_hat=yhat(x, (beta_0, beta_1))\n",
        "    # d_beta_0= -2*(np.average(np.sum((np.average(y-y_hat)))))\n",
        "    # d_beta_1=-2*(np.average(np.sum((np.average(y-y_hat)*x))))\n",
        "    \n",
        "    \n",
        "    d_beta_0 = -2 *1/len(x)*np.sum(y-y_hat)\n",
        "    d_beta_1 = -2 *1/len(x)*np.sum((y-y_hat)*x)\n",
        "    \n",
        "\n",
        "    return np.array([d_beta_0, d_beta_1])"
      ],
      "execution_count": 6,
      "outputs": []
    },
    {
      "cell_type": "code",
      "metadata": {
        "id": "tUjZqVe6t9wF",
        "colab_type": "code",
        "colab": {}
      },
      "source": [
        "def grad_descent(x, y, starting_point=None, iterations=10, learning_rate=1e-1):\n",
        "    \"\"\"\n",
        "    Estimate the coefficients of simple regression model using gradient descent.\n",
        "    model: y = beta_0 + beta_1*X\n",
        "    \n",
        "    Args\n",
        "        x (np.array) \n",
        "        y (np.array)\n",
        "        starting_point (tuple2) initialization point for gradient descent\n",
        "        iterations (int) number of iterations before stopping\n",
        "        learning_rate (float) \n",
        "        \n",
        "    \n",
        "    Returns\n",
        "        (np.array) trajectory through parameter space towards minimum\n",
        "        (np.array) total loss metric throughout gradient descent iterations\n",
        "    \"\"\"\n",
        "    if starting_point is None:\n",
        "      current_point = np.random.uniform(-10,10,size=2)\n",
        "    else:\n",
        "      current_point = starting_point\n",
        "\n",
        "    outcome=[current_point]\n",
        "    loss_metrics=[]\n",
        "\n",
        "    for i in range(iterations):\n",
        "\n",
        "      # loss\n",
        "      y_hat=yhat(x, (current_point[0], current_point[1]))\n",
        "      loss_value=loss(y,y_hat )\n",
        "      loss_metrics.append(loss_value)\n",
        "  \n",
        "      # grad\n",
        "      grad=grad_f(current_point[0], current_point[1],x,y)\n",
        "      \n",
        "      current_point= current_point - learning_rate* grad\n",
        "      \n",
        "      outcome.append(current_point)\n",
        "  \n",
        "    return np.array(outcome),np.array(loss_metrics)"
      ],
      "execution_count": 7,
      "outputs": []
    },
    {
      "cell_type": "code",
      "metadata": {
        "id": "ffaOsqoYuKW3",
        "colab_type": "code",
        "colab": {}
      },
      "source": [
        "traj, losses = grad_descent(x, y, iterations=20,learning_rate=1e-1)"
      ],
      "execution_count": 8,
      "outputs": []
    },
    {
      "cell_type": "code",
      "metadata": {
        "id": "XdMJmHW-uOGn",
        "colab_type": "code",
        "colab": {
          "base_uri": "https://localhost:8080/",
          "height": 300
        },
        "outputId": "7d4cb488-da37-4159-f017-8f715d99a9b1"
      },
      "source": [
        "plt.plot(losses)\n",
        "plt.ylabel(\"RMS Error\")\n",
        "plt.xlabel(\"Iteration\")"
      ],
      "execution_count": 9,
      "outputs": [
        {
          "output_type": "execute_result",
          "data": {
            "text/plain": [
              "Text(0.5,0,'Iteration')"
            ]
          },
          "metadata": {
            "tags": []
          },
          "execution_count": 9
        },
        {
          "output_type": "display_data",
          "data": {
            "image/png": "[encoded data removed]",
            "text/plain": [
              "<Figure size 432x288 with 1 Axes>"
            ]
          },
          "metadata": {
            "tags": [],
            "needs_background": "light"
          }
        }
      ]
    },
    {
      "cell_type": "code",
      "metadata": {
        "id": "Tr_K26yNuLGe",
        "colab_type": "code",
        "colab": {
          "base_uri": "https://localhost:8080/",
          "height": 301
        },
        "outputId": "aecb9c67-3fdf-42b0-f7df-aff57c35484f"
      },
      "source": [
        "x= traj[:,0]\n",
        "y= traj[:,1]\n",
        "plt.plot(x,y,'-o')\n",
        "plt.xlim(-10,10)\n",
        "plt.ylim(-10,10)\n",
        "plt.xlabel(\"beta_0\")\n",
        "plt.ylabel(\"beta_1\")"
      ],
      "execution_count": 10,
      "outputs": [
        {
          "output_type": "execute_result",
          "data": {
            "text/plain": [
              "Text(0,0.5,'beta_1')"
            ]
          },
          "metadata": {
            "tags": []
          },
          "execution_count": 10
        },
        {
          "output_type": "display_data",
          "data": {
            "image/png": "[encoded data removed]",
            "text/plain": [
              "<Figure size 432x288 with 1 Axes>"
            ]
          },
          "metadata": {
            "tags": [],
            "needs_background": "light"
          }
        }
      ]
    }
  ]
}